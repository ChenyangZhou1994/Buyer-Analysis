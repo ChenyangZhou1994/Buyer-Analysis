{
 "cells": [
  {
   "cell_type": "markdown",
   "metadata": {
    "collapsed": true,
    "pycharm": {
     "name": "#%% md\n"
    }
   },
   "source": [
    "# CatBoost"
   ]
  },
  {
   "cell_type": "markdown",
   "source": [
    "# 1.导入相关库"
   ],
   "metadata": {
    "collapsed": false,
    "pycharm": {
     "name": "#%% md\n"
    }
   }
  },
  {
   "cell_type": "code",
   "execution_count": 1,
   "outputs": [],
   "source": [
    "import numpy as np\n",
    "import pandas as pd\n",
    "\n",
    "#preprocessing\n",
    "from sklearn.preprocessing import MinMaxScaler, StandardScaler\n",
    "from sklearn.preprocessing import LabelEncoder\n",
    "from sklearn.model_selection import train_test_split\n",
    "from pandas.plotting import scatter_matrix\n",
    "from tqdm import tqdm\n",
    "from imblearn.over_sampling import SMOTE\n",
    "\n",
    "#visualizations\n",
    "import seaborn as sns\n",
    "from matplotlib import pyplot as plt\n",
    "%matplotlib inline\n",
    "\n",
    "plt.rcParams['font.sans-serif']=['SimHei']\n",
    "plt.rcParams['axes.unicode_minus']=False\n",
    "\n",
    "pd.set_option('display.max_rows', None)\n",
    "pd.set_option('display.max_columns', None)\n",
    "\n",
    "#algorithms\n",
    "from catboost import CatBoostClassifier\n",
    "\n",
    "#score metrics\n",
    "from sklearn.model_selection import StratifiedKFold\n",
    "from sklearn.metrics import confusion_matrix\n",
    "from sklearn.model_selection import GridSearchCV\n",
    "from sklearn.metrics import roc_auc_score\n",
    "from sklearn.metrics import roc_curve, auc"
   ],
   "metadata": {
    "collapsed": false,
    "pycharm": {
     "name": "#%%\n"
    }
   }
  },
  {
   "cell_type": "markdown",
   "source": [
    "# 2.读取数据"
   ],
   "metadata": {
    "collapsed": false,
    "pycharm": {
     "name": "#%% md\n"
    }
   }
  },
  {
   "cell_type": "code",
   "execution_count": 2,
   "outputs": [
    {
     "name": "stdout",
     "output_type": "stream",
     "text": [
      "Train Shape:(8631, 18)\n"
     ]
    },
    {
     "data": {
      "text/plain": "                访客类型    月份  产品相关页面访问持续时间  信息相关页面  用户相关页面  信息相关页面访问持续时间  \\\n0  Returning_Visitor   Dec    556.916667       0       0      0.000000   \n1  Returning_Visitor   Dec   2348.812500       5       0     39.833333   \n2        New_Visitor  June   1570.133333       6       0     89.800000   \n3  Returning_Visitor   Dec    821.682540       4       2    159.000000   \n4  Returning_Visitor   Jul    584.377778       5       2     38.577778   \n\n        退出率       跳出率  产品相关页面  网页价值  操作系统     周末  浏览器  用户页面访问持续时间  区域  流量类型  \\\n0  0.022436  0.010256      26   0.0     4  False    2        0.00   1     8   \n1  0.055167  0.020000      34   0.0     2  False    2        0.00   3     1   \n2  0.005357  0.000000      26   0.0     2   True    2        0.00   8     4   \n3  0.019343  0.000617      33   0.0     2  False    2       27.75   1     2   \n4  0.064352  0.000000       7   0.0     1   True    1        9.00   1     2   \n\n   节假日  是否购买  \n0  0.0     0  \n1  0.0     0  \n2  0.0     0  \n3  0.0     1  \n4  0.0     1  ",
      "text/html": "<div>\n<style scoped>\n    .dataframe tbody tr th:only-of-type {\n        vertical-align: middle;\n    }\n\n    .dataframe tbody tr th {\n        vertical-align: top;\n    }\n\n    .dataframe thead th {\n        text-align: right;\n    }\n</style>\n<table border=\"1\" class=\"dataframe\">\n  <thead>\n    <tr style=\"text-align: right;\">\n      <th></th>\n      <th>访客类型</th>\n      <th>月份</th>\n      <th>产品相关页面访问持续时间</th>\n      <th>信息相关页面</th>\n      <th>用户相关页面</th>\n      <th>信息相关页面访问持续时间</th>\n      <th>退出率</th>\n      <th>跳出率</th>\n      <th>产品相关页面</th>\n      <th>网页价值</th>\n      <th>操作系统</th>\n      <th>周末</th>\n      <th>浏览器</th>\n      <th>用户页面访问持续时间</th>\n      <th>区域</th>\n      <th>流量类型</th>\n      <th>节假日</th>\n      <th>是否购买</th>\n    </tr>\n  </thead>\n  <tbody>\n    <tr>\n      <th>0</th>\n      <td>Returning_Visitor</td>\n      <td>Dec</td>\n      <td>556.916667</td>\n      <td>0</td>\n      <td>0</td>\n      <td>0.000000</td>\n      <td>0.022436</td>\n      <td>0.010256</td>\n      <td>26</td>\n      <td>0.0</td>\n      <td>4</td>\n      <td>False</td>\n      <td>2</td>\n      <td>0.00</td>\n      <td>1</td>\n      <td>8</td>\n      <td>0.0</td>\n      <td>0</td>\n    </tr>\n    <tr>\n      <th>1</th>\n      <td>Returning_Visitor</td>\n      <td>Dec</td>\n      <td>2348.812500</td>\n      <td>5</td>\n      <td>0</td>\n      <td>39.833333</td>\n      <td>0.055167</td>\n      <td>0.020000</td>\n      <td>34</td>\n      <td>0.0</td>\n      <td>2</td>\n      <td>False</td>\n      <td>2</td>\n      <td>0.00</td>\n      <td>3</td>\n      <td>1</td>\n      <td>0.0</td>\n      <td>0</td>\n    </tr>\n    <tr>\n      <th>2</th>\n      <td>New_Visitor</td>\n      <td>June</td>\n      <td>1570.133333</td>\n      <td>6</td>\n      <td>0</td>\n      <td>89.800000</td>\n      <td>0.005357</td>\n      <td>0.000000</td>\n      <td>26</td>\n      <td>0.0</td>\n      <td>2</td>\n      <td>True</td>\n      <td>2</td>\n      <td>0.00</td>\n      <td>8</td>\n      <td>4</td>\n      <td>0.0</td>\n      <td>0</td>\n    </tr>\n    <tr>\n      <th>3</th>\n      <td>Returning_Visitor</td>\n      <td>Dec</td>\n      <td>821.682540</td>\n      <td>4</td>\n      <td>2</td>\n      <td>159.000000</td>\n      <td>0.019343</td>\n      <td>0.000617</td>\n      <td>33</td>\n      <td>0.0</td>\n      <td>2</td>\n      <td>False</td>\n      <td>2</td>\n      <td>27.75</td>\n      <td>1</td>\n      <td>2</td>\n      <td>0.0</td>\n      <td>1</td>\n    </tr>\n    <tr>\n      <th>4</th>\n      <td>Returning_Visitor</td>\n      <td>Jul</td>\n      <td>584.377778</td>\n      <td>5</td>\n      <td>2</td>\n      <td>38.577778</td>\n      <td>0.064352</td>\n      <td>0.000000</td>\n      <td>7</td>\n      <td>0.0</td>\n      <td>1</td>\n      <td>True</td>\n      <td>1</td>\n      <td>9.00</td>\n      <td>1</td>\n      <td>2</td>\n      <td>0.0</td>\n      <td>1</td>\n    </tr>\n  </tbody>\n</table>\n</div>"
     },
     "execution_count": 2,
     "metadata": {},
     "output_type": "execute_result"
    }
   ],
   "source": [
    "path = './data/'\n",
    "train_df = pd.read_csv(path+'train.csv')\n",
    "print('Train Shape:{}'.format(train_df.shape))\n",
    "train_df.head(5)"
   ],
   "metadata": {
    "collapsed": false,
    "pycharm": {
     "name": "#%%\n"
    }
   }
  },
  {
   "cell_type": "markdown",
   "source": [
    "# 3.数据分析EDA"
   ],
   "metadata": {
    "collapsed": false,
    "pycharm": {
     "name": "#%% md\n"
    }
   }
  },
  {
   "cell_type": "markdown",
   "source": [
    "## 3.1 各列与是否购买的关系"
   ],
   "metadata": {
    "collapsed": false,
    "pycharm": {
     "name": "#%% md\n"
    }
   }
  },
  {
   "cell_type": "markdown",
   "source": [
    "### 3.1.1 访客类型与是否购买的关系"
   ],
   "metadata": {
    "collapsed": false
   }
  },
  {
   "cell_type": "code",
   "execution_count": 3,
   "outputs": [
    {
     "data": {
      "text/plain": "<seaborn.axisgrid.FacetGrid at 0x2918226d9e8>"
     },
     "execution_count": 3,
     "metadata": {},
     "output_type": "execute_result"
    },
    {
     "data": {
      "text/plain": "<Figure size 432x216 with 2 Axes>",
      "image/png": "[encoded data removed]"
     },
     "metadata": {
      "needs_background": "light"
     },
     "output_type": "display_data"
    }
   ],
   "source": [
    "g = sns.FacetGrid(train_df, col='是否购买')\n",
    "g.map(plt.hist, '访客类型', bins=20)"
   ],
   "metadata": {
    "collapsed": false,
    "pycharm": {
     "name": "#%%\n"
    }
   }
  },
  {
   "cell_type": "markdown",
   "source": [
    "### 3.1.2 月份与是否购买的关系\n"
   ],
   "metadata": {
    "collapsed": false,
    "pycharm": {
     "name": "#%% md\n"
    }
   }
  },
  {
   "cell_type": "code",
   "execution_count": 4,
   "outputs": [
    {
     "data": {
      "text/plain": "<seaborn.axisgrid.FacetGrid at 0x2918e214710>"
     },
     "execution_count": 4,
     "metadata": {},
     "output_type": "execute_result"
    },
    {
     "data": {
      "text/plain": "<Figure size 432x216 with 2 Axes>",
      "image/png": "[encoded data removed]"
     },
     "metadata": {
      "needs_background": "light"
     },
     "output_type": "display_data"
    }
   ],
   "source": [
    "g = sns.FacetGrid(train_df, col='是否购买')\n",
    "g.map(plt.hist, '月份', bins=20)"
   ],
   "metadata": {
    "collapsed": false,
    "pycharm": {
     "name": "#%%\n"
    }
   }
  },
  {
   "cell_type": "markdown",
   "source": [
    "### 3.1.3 操作系统与是否购买的关系"
   ],
   "metadata": {
    "collapsed": false
   }
  },
  {
   "cell_type": "code",
   "execution_count": 5,
   "outputs": [
    {
     "data": {
      "text/plain": "<seaborn.axisgrid.FacetGrid at 0x2918e360be0>"
     },
     "execution_count": 5,
     "metadata": {},
     "output_type": "execute_result"
    },
    {
     "data": {
      "text/plain": "<Figure size 432x216 with 2 Axes>",
      "image/png": "[encoded data removed]"
     },
     "metadata": {
      "needs_background": "light"
     },
     "output_type": "display_data"
    }
   ],
   "source": [
    "g = sns.FacetGrid(train_df, col='是否购买')\n",
    "g.map(plt.hist, '操作系统', bins=20)"
   ],
   "metadata": {
    "collapsed": false,
    "pycharm": {
     "name": "#%%\n"
    }
   }
  },
  {
   "cell_type": "markdown",
   "source": [
    "## 3.2 删除无关列"
   ],
   "metadata": {
    "collapsed": false
   }
  },
  {
   "cell_type": "code",
   "execution_count": 6,
   "outputs": [
    {
     "data": {
      "text/plain": "                访客类型    月份  产品相关页面访问持续时间  信息相关页面  用户相关页面  信息相关页面访问持续时间  \\\n0  Returning_Visitor   Dec    556.916667       0       0      0.000000   \n1  Returning_Visitor   Dec   2348.812500       5       0     39.833333   \n2        New_Visitor  June   1570.133333       6       0     89.800000   \n3  Returning_Visitor   Dec    821.682540       4       2    159.000000   \n4  Returning_Visitor   Jul    584.377778       5       2     38.577778   \n\n        退出率       跳出率  产品相关页面  网页价值     周末  浏览器  用户页面访问持续时间  区域  流量类型  节假日  \\\n0  0.022436  0.010256      26   0.0  False    2        0.00   1     8  0.0   \n1  0.055167  0.020000      34   0.0  False    2        0.00   3     1  0.0   \n2  0.005357  0.000000      26   0.0   True    2        0.00   8     4  0.0   \n3  0.019343  0.000617      33   0.0  False    2       27.75   1     2  0.0   \n4  0.064352  0.000000       7   0.0   True    1        9.00   1     2  0.0   \n\n   是否购买  \n0     0  \n1     0  \n2     0  \n3     1  \n4     1  ",
      "text/html": "<div>\n<style scoped>\n    .dataframe tbody tr th:only-of-type {\n        vertical-align: middle;\n    }\n\n    .dataframe tbody tr th {\n        vertical-align: top;\n    }\n\n    .dataframe thead th {\n        text-align: right;\n    }\n</style>\n<table border=\"1\" class=\"dataframe\">\n  <thead>\n    <tr style=\"text-align: right;\">\n      <th></th>\n      <th>访客类型</th>\n      <th>月份</th>\n      <th>产品相关页面访问持续时间</th>\n      <th>信息相关页面</th>\n      <th>用户相关页面</th>\n      <th>信息相关页面访问持续时间</th>\n      <th>退出率</th>\n      <th>跳出率</th>\n      <th>产品相关页面</th>\n      <th>网页价值</th>\n      <th>周末</th>\n      <th>浏览器</th>\n      <th>用户页面访问持续时间</th>\n      <th>区域</th>\n      <th>流量类型</th>\n      <th>节假日</th>\n      <th>是否购买</th>\n    </tr>\n  </thead>\n  <tbody>\n    <tr>\n      <th>0</th>\n      <td>Returning_Visitor</td>\n      <td>Dec</td>\n      <td>556.916667</td>\n      <td>0</td>\n      <td>0</td>\n      <td>0.000000</td>\n      <td>0.022436</td>\n      <td>0.010256</td>\n      <td>26</td>\n      <td>0.0</td>\n      <td>False</td>\n      <td>2</td>\n      <td>0.00</td>\n      <td>1</td>\n      <td>8</td>\n      <td>0.0</td>\n      <td>0</td>\n    </tr>\n    <tr>\n      <th>1</th>\n      <td>Returning_Visitor</td>\n      <td>Dec</td>\n      <td>2348.812500</td>\n      <td>5</td>\n      <td>0</td>\n      <td>39.833333</td>\n      <td>0.055167</td>\n      <td>0.020000</td>\n      <td>34</td>\n      <td>0.0</td>\n      <td>False</td>\n      <td>2</td>\n      <td>0.00</td>\n      <td>3</td>\n      <td>1</td>\n      <td>0.0</td>\n      <td>0</td>\n    </tr>\n    <tr>\n      <th>2</th>\n      <td>New_Visitor</td>\n      <td>June</td>\n      <td>1570.133333</td>\n      <td>6</td>\n      <td>0</td>\n      <td>89.800000</td>\n      <td>0.005357</td>\n      <td>0.000000</td>\n      <td>26</td>\n      <td>0.0</td>\n      <td>True</td>\n      <td>2</td>\n      <td>0.00</td>\n      <td>8</td>\n      <td>4</td>\n      <td>0.0</td>\n      <td>0</td>\n    </tr>\n    <tr>\n      <th>3</th>\n      <td>Returning_Visitor</td>\n      <td>Dec</td>\n      <td>821.682540</td>\n      <td>4</td>\n      <td>2</td>\n      <td>159.000000</td>\n      <td>0.019343</td>\n      <td>0.000617</td>\n      <td>33</td>\n      <td>0.0</td>\n      <td>False</td>\n      <td>2</td>\n      <td>27.75</td>\n      <td>1</td>\n      <td>2</td>\n      <td>0.0</td>\n      <td>1</td>\n    </tr>\n    <tr>\n      <th>4</th>\n      <td>Returning_Visitor</td>\n      <td>Jul</td>\n      <td>584.377778</td>\n      <td>5</td>\n      <td>2</td>\n      <td>38.577778</td>\n      <td>0.064352</td>\n      <td>0.000000</td>\n      <td>7</td>\n      <td>0.0</td>\n      <td>True</td>\n      <td>1</td>\n      <td>9.00</td>\n      <td>1</td>\n      <td>2</td>\n      <td>0.0</td>\n      <td>1</td>\n    </tr>\n  </tbody>\n</table>\n</div>"
     },
     "execution_count": 6,
     "metadata": {},
     "output_type": "execute_result"
    }
   ],
   "source": [
    "train_df.drop(['操作系统'], axis=1, inplace=True)\n",
    "\n",
    "train_df.head()"
   ],
   "metadata": {
    "collapsed": false,
    "pycharm": {
     "name": "#%%\n"
    }
   }
  },
  {
   "cell_type": "markdown",
   "source": [
    "## 3.3 查询数据缺失值"
   ],
   "metadata": {
    "collapsed": false
   }
  },
  {
   "cell_type": "code",
   "execution_count": 7,
   "outputs": [
    {
     "data": {
      "text/plain": "访客类型            0\n月份              0\n产品相关页面访问持续时间    0\n信息相关页面          0\n用户相关页面          0\n信息相关页面访问持续时间    0\n退出率             0\n跳出率             0\n产品相关页面          0\n网页价值            0\n周末              0\n浏览器             0\n用户页面访问持续时间      0\n区域              0\n流量类型            0\n节假日             0\n是否购买            0\ndtype: int64"
     },
     "execution_count": 7,
     "metadata": {},
     "output_type": "execute_result"
    }
   ],
   "source": [
    "total_missingvalues = train_df.isnull().sum()\n",
    "total_missingvalues"
   ],
   "metadata": {
    "collapsed": false,
    "pycharm": {
     "name": "#%%\n"
    }
   }
  },
  {
   "cell_type": "markdown",
   "source": [
    "## 3.4 根据训练集的列可以得到大致如下三种特征：\n",
    "- 数字列 产品相关页面访问持续时间、产品相关页面访问持续时间、信息相关页面访问持续时间、退出率、\n",
    "跳出率、网页价值、用户页面访问持续时间、节假日\n",
    "- 二值列 周末\n",
    "- 字符列 访客类型、月份"
   ],
   "metadata": {
    "collapsed": false
   }
  },
  {
   "cell_type": "code",
   "execution_count": 8,
   "outputs": [
    {
     "data": {
      "text/plain": "   产品相关页面访问持续时间  信息相关页面  用户相关页面  信息相关页面访问持续时间       退出率       跳出率  产品相关页面  \\\n0    556.916667       0       0      0.000000  0.022436  0.010256      26   \n1   2348.812500       5       0     39.833333  0.055167  0.020000      34   \n2   1570.133333       6       0     89.800000  0.005357  0.000000      26   \n3    821.682540       4       2    159.000000  0.019343  0.000617      33   \n4    584.377778       5       2     38.577778  0.064352  0.000000       7   \n\n   网页价值     周末  浏览器  用户页面访问持续时间  区域  流量类型  节假日  是否购买  访客类型_New_Visitor  \\\n0   0.0  False    2        0.00   1     8  0.0     0                 0   \n1   0.0  False    2        0.00   3     1  0.0     0                 0   \n2   0.0   True    2        0.00   8     4  0.0     0                 1   \n3   0.0  False    2       27.75   1     2  0.0     1                 0   \n4   0.0   True    1        9.00   1     2  0.0     1                 0   \n\n   访客类型_Other  访客类型_Returning_Visitor  月份_Aug  月份_Dec  月份_Feb  月份_Jul  \\\n0           0                       1       0       1       0       0   \n1           0                       1       0       1       0       0   \n2           0                       0       0       0       0       0   \n3           0                       1       0       1       0       0   \n4           0                       1       0       0       0       1   \n\n   月份_June  月份_Mar  月份_May  月份_Nov  月份_Oct  月份_Sep  \n0        0       0       0       0       0       0  \n1        0       0       0       0       0       0  \n2        1       0       0       0       0       0  \n3        0       0       0       0       0       0  \n4        0       0       0       0       0       0  ",
      "text/html": "<div>\n<style scoped>\n    .dataframe tbody tr th:only-of-type {\n        vertical-align: middle;\n    }\n\n    .dataframe tbody tr th {\n        vertical-align: top;\n    }\n\n    .dataframe thead th {\n        text-align: right;\n    }\n</style>\n<table border=\"1\" class=\"dataframe\">\n  <thead>\n    <tr style=\"text-align: right;\">\n      <th></th>\n      <th>产品相关页面访问持续时间</th>\n      <th>信息相关页面</th>\n      <th>用户相关页面</th>\n      <th>信息相关页面访问持续时间</th>\n      <th>退出率</th>\n      <th>跳出率</th>\n      <th>产品相关页面</th>\n      <th>网页价值</th>\n      <th>周末</th>\n      <th>浏览器</th>\n      <th>用户页面访问持续时间</th>\n      <th>区域</th>\n      <th>流量类型</th>\n      <th>节假日</th>\n      <th>是否购买</th>\n      <th>访客类型_New_Visitor</th>\n      <th>访客类型_Other</th>\n      <th>访客类型_Returning_Visitor</th>\n      <th>月份_Aug</th>\n      <th>月份_Dec</th>\n      <th>月份_Feb</th>\n      <th>月份_Jul</th>\n      <th>月份_June</th>\n      <th>月份_Mar</th>\n      <th>月份_May</th>\n      <th>月份_Nov</th>\n      <th>月份_Oct</th>\n      <th>月份_Sep</th>\n    </tr>\n  </thead>\n  <tbody>\n    <tr>\n      <th>0</th>\n      <td>556.916667</td>\n      <td>0</td>\n      <td>0</td>\n      <td>0.000000</td>\n      <td>0.022436</td>\n      <td>0.010256</td>\n      <td>26</td>\n      <td>0.0</td>\n      <td>False</td>\n      <td>2</td>\n      <td>0.00</td>\n      <td>1</td>\n      <td>8</td>\n      <td>0.0</td>\n      <td>0</td>\n      <td>0</td>\n      <td>0</td>\n      <td>1</td>\n      <td>0</td>\n      <td>1</td>\n      <td>0</td>\n      <td>0</td>\n      <td>0</td>\n      <td>0</td>\n      <td>0</td>\n      <td>0</td>\n      <td>0</td>\n      <td>0</td>\n    </tr>\n    <tr>\n      <th>1</th>\n      <td>2348.812500</td>\n      <td>5</td>\n      <td>0</td>\n      <td>39.833333</td>\n      <td>0.055167</td>\n      <td>0.020000</td>\n      <td>34</td>\n      <td>0.0</td>\n      <td>False</td>\n      <td>2</td>\n      <td>0.00</td>\n      <td>3</td>\n      <td>1</td>\n      <td>0.0</td>\n      <td>0</td>\n      <td>0</td>\n      <td>0</td>\n      <td>1</td>\n      <td>0</td>\n      <td>1</td>\n      <td>0</td>\n      <td>0</td>\n      <td>0</td>\n      <td>0</td>\n      <td>0</td>\n      <td>0</td>\n      <td>0</td>\n      <td>0</td>\n    </tr>\n    <tr>\n      <th>2</th>\n      <td>1570.133333</td>\n      <td>6</td>\n      <td>0</td>\n      <td>89.800000</td>\n      <td>0.005357</td>\n      <td>0.000000</td>\n      <td>26</td>\n      <td>0.0</td>\n      <td>True</td>\n      <td>2</td>\n      <td>0.00</td>\n      <td>8</td>\n      <td>4</td>\n      <td>0.0</td>\n      <td>0</td>\n      <td>1</td>\n      <td>0</td>\n      <td>0</td>\n      <td>0</td>\n      <td>0</td>\n      <td>0</td>\n      <td>0</td>\n      <td>1</td>\n      <td>0</td>\n      <td>0</td>\n      <td>0</td>\n      <td>0</td>\n      <td>0</td>\n    </tr>\n    <tr>\n      <th>3</th>\n      <td>821.682540</td>\n      <td>4</td>\n      <td>2</td>\n      <td>159.000000</td>\n      <td>0.019343</td>\n      <td>0.000617</td>\n      <td>33</td>\n      <td>0.0</td>\n      <td>False</td>\n      <td>2</td>\n      <td>27.75</td>\n      <td>1</td>\n      <td>2</td>\n      <td>0.0</td>\n      <td>1</td>\n      <td>0</td>\n      <td>0</td>\n      <td>1</td>\n      <td>0</td>\n      <td>1</td>\n      <td>0</td>\n      <td>0</td>\n      <td>0</td>\n      <td>0</td>\n      <td>0</td>\n      <td>0</td>\n      <td>0</td>\n      <td>0</td>\n    </tr>\n    <tr>\n      <th>4</th>\n      <td>584.377778</td>\n      <td>5</td>\n      <td>2</td>\n      <td>38.577778</td>\n      <td>0.064352</td>\n      <td>0.000000</td>\n      <td>7</td>\n      <td>0.0</td>\n      <td>True</td>\n      <td>1</td>\n      <td>9.00</td>\n      <td>1</td>\n      <td>2</td>\n      <td>0.0</td>\n      <td>1</td>\n      <td>0</td>\n      <td>0</td>\n      <td>1</td>\n      <td>0</td>\n      <td>0</td>\n      <td>0</td>\n      <td>1</td>\n      <td>0</td>\n      <td>0</td>\n      <td>0</td>\n      <td>0</td>\n      <td>0</td>\n      <td>0</td>\n    </tr>\n  </tbody>\n</table>\n</div>"
     },
     "execution_count": 8,
     "metadata": {},
     "output_type": "execute_result"
    }
   ],
   "source": [
    "train_df = pd.get_dummies(train_df)\n",
    "\n",
    "train_df.head(5)"
   ],
   "metadata": {
    "collapsed": false,
    "pycharm": {
     "name": "#%%\n"
    }
   }
  },
  {
   "cell_type": "markdown",
   "source": [
    "##  3.5 数据处理"
   ],
   "metadata": {
    "collapsed": false
   }
  },
  {
   "cell_type": "code",
   "execution_count": 9,
   "outputs": [
    {
     "name": "stderr",
     "output_type": "stream",
     "text": [
      "100%|██████████| 1/1 [00:00<00:00, 100.06it/s]\n"
     ]
    },
    {
     "data": {
      "text/plain": "   产品相关页面访问持续时间  信息相关页面  用户相关页面  信息相关页面访问持续时间       退出率       跳出率  产品相关页面  \\\n0      0.008705       0       0      0.000000  0.112179  0.051282      26   \n1      0.036715       5       0      0.011720  0.275833  0.100000      34   \n2      0.024543       6       0      0.026421  0.026786  0.000000      26   \n3      0.012844       4       2      0.046782  0.096717  0.003086      33   \n4      0.009135       5       2      0.011351  0.321759  0.000000       7   \n\n   网页价值  周末  浏览器  用户页面访问持续时间  区域  流量类型  节假日  是否购买  访客类型_New_Visitor  \\\n0   0.0   0    2    0.000000   1     8  0.0     0                 0   \n1   0.0   0    2    0.000000   3     1  0.0     0                 0   \n2   0.0   1    2    0.000000   8     4  0.0     0                 1   \n3   0.0   0    2    0.010885   1     2  0.0     1                 0   \n4   0.0   1    1    0.003530   1     2  0.0     1                 0   \n\n   访客类型_Other  访客类型_Returning_Visitor  月份_Aug  月份_Dec  月份_Feb  月份_Jul  \\\n0           0                       1       0       1       0       0   \n1           0                       1       0       1       0       0   \n2           0                       0       0       0       0       0   \n3           0                       1       0       1       0       0   \n4           0                       1       0       0       0       1   \n\n   月份_June  月份_Mar  月份_May  月份_Nov  月份_Oct  月份_Sep  \n0        0       0       0       0       0       0  \n1        0       0       0       0       0       0  \n2        1       0       0       0       0       0  \n3        0       0       0       0       0       0  \n4        0       0       0       0       0       0  ",
      "text/html": "<div>\n<style scoped>\n    .dataframe tbody tr th:only-of-type {\n        vertical-align: middle;\n    }\n\n    .dataframe tbody tr th {\n        vertical-align: top;\n    }\n\n    .dataframe thead th {\n        text-align: right;\n    }\n</style>\n<table border=\"1\" class=\"dataframe\">\n  <thead>\n    <tr style=\"text-align: right;\">\n      <th></th>\n      <th>产品相关页面访问持续时间</th>\n      <th>信息相关页面</th>\n      <th>用户相关页面</th>\n      <th>信息相关页面访问持续时间</th>\n      <th>退出率</th>\n      <th>跳出率</th>\n      <th>产品相关页面</th>\n      <th>网页价值</th>\n      <th>周末</th>\n      <th>浏览器</th>\n      <th>用户页面访问持续时间</th>\n      <th>区域</th>\n      <th>流量类型</th>\n      <th>节假日</th>\n      <th>是否购买</th>\n      <th>访客类型_New_Visitor</th>\n      <th>访客类型_Other</th>\n      <th>访客类型_Returning_Visitor</th>\n      <th>月份_Aug</th>\n      <th>月份_Dec</th>\n      <th>月份_Feb</th>\n      <th>月份_Jul</th>\n      <th>月份_June</th>\n      <th>月份_Mar</th>\n      <th>月份_May</th>\n      <th>月份_Nov</th>\n      <th>月份_Oct</th>\n      <th>月份_Sep</th>\n    </tr>\n  </thead>\n  <tbody>\n    <tr>\n      <th>0</th>\n      <td>0.008705</td>\n      <td>0</td>\n      <td>0</td>\n      <td>0.000000</td>\n      <td>0.112179</td>\n      <td>0.051282</td>\n      <td>26</td>\n      <td>0.0</td>\n      <td>0</td>\n      <td>2</td>\n      <td>0.000000</td>\n      <td>1</td>\n      <td>8</td>\n      <td>0.0</td>\n      <td>0</td>\n      <td>0</td>\n      <td>0</td>\n      <td>1</td>\n      <td>0</td>\n      <td>1</td>\n      <td>0</td>\n      <td>0</td>\n      <td>0</td>\n      <td>0</td>\n      <td>0</td>\n      <td>0</td>\n      <td>0</td>\n      <td>0</td>\n    </tr>\n    <tr>\n      <th>1</th>\n      <td>0.036715</td>\n      <td>5</td>\n      <td>0</td>\n      <td>0.011720</td>\n      <td>0.275833</td>\n      <td>0.100000</td>\n      <td>34</td>\n      <td>0.0</td>\n      <td>0</td>\n      <td>2</td>\n      <td>0.000000</td>\n      <td>3</td>\n      <td>1</td>\n      <td>0.0</td>\n      <td>0</td>\n      <td>0</td>\n      <td>0</td>\n      <td>1</td>\n      <td>0</td>\n      <td>1</td>\n      <td>0</td>\n      <td>0</td>\n      <td>0</td>\n      <td>0</td>\n      <td>0</td>\n      <td>0</td>\n      <td>0</td>\n      <td>0</td>\n    </tr>\n    <tr>\n      <th>2</th>\n      <td>0.024543</td>\n      <td>6</td>\n      <td>0</td>\n      <td>0.026421</td>\n      <td>0.026786</td>\n      <td>0.000000</td>\n      <td>26</td>\n      <td>0.0</td>\n      <td>1</td>\n      <td>2</td>\n      <td>0.000000</td>\n      <td>8</td>\n      <td>4</td>\n      <td>0.0</td>\n      <td>0</td>\n      <td>1</td>\n      <td>0</td>\n      <td>0</td>\n      <td>0</td>\n      <td>0</td>\n      <td>0</td>\n      <td>0</td>\n      <td>1</td>\n      <td>0</td>\n      <td>0</td>\n      <td>0</td>\n      <td>0</td>\n      <td>0</td>\n    </tr>\n    <tr>\n      <th>3</th>\n      <td>0.012844</td>\n      <td>4</td>\n      <td>2</td>\n      <td>0.046782</td>\n      <td>0.096717</td>\n      <td>0.003086</td>\n      <td>33</td>\n      <td>0.0</td>\n      <td>0</td>\n      <td>2</td>\n      <td>0.010885</td>\n      <td>1</td>\n      <td>2</td>\n      <td>0.0</td>\n      <td>1</td>\n      <td>0</td>\n      <td>0</td>\n      <td>1</td>\n      <td>0</td>\n      <td>1</td>\n      <td>0</td>\n      <td>0</td>\n      <td>0</td>\n      <td>0</td>\n      <td>0</td>\n      <td>0</td>\n      <td>0</td>\n      <td>0</td>\n    </tr>\n    <tr>\n      <th>4</th>\n      <td>0.009135</td>\n      <td>5</td>\n      <td>2</td>\n      <td>0.011351</td>\n      <td>0.321759</td>\n      <td>0.000000</td>\n      <td>7</td>\n      <td>0.0</td>\n      <td>1</td>\n      <td>1</td>\n      <td>0.003530</td>\n      <td>1</td>\n      <td>2</td>\n      <td>0.0</td>\n      <td>1</td>\n      <td>0</td>\n      <td>0</td>\n      <td>1</td>\n      <td>0</td>\n      <td>0</td>\n      <td>0</td>\n      <td>1</td>\n      <td>0</td>\n      <td>0</td>\n      <td>0</td>\n      <td>0</td>\n      <td>0</td>\n      <td>0</td>\n    </tr>\n  </tbody>\n</table>\n</div>"
     },
     "execution_count": 9,
     "metadata": {},
     "output_type": "execute_result"
    }
   ],
   "source": [
    "num_columns = ['产品相关页面访问持续时间', '产品相关页面访问持续时间', '信息相关页面访问持续时间', '退出率', '跳出率',\n",
    "               '网页价值', '用户页面访问持续时间', '节假日']\n",
    "\n",
    "# zero_to_one_columns = ['']\n",
    "#\n",
    "str_columns = ['周末']\n",
    "\n",
    "for i in tqdm(str_columns):\n",
    "    lbl = LabelEncoder()\n",
    "    train_df[i] = lbl.fit_transform(train_df[i].astype(str))\n",
    "\n",
    "\n",
    "\n",
    "train_df[num_columns] = MinMaxScaler().fit_transform(train_df[num_columns])\n",
    "\n",
    "train_df.head(5)\n",
    "\n"
   ],
   "metadata": {
    "collapsed": false,
    "pycharm": {
     "name": "#%%\n"
    }
   }
  },
  {
   "cell_type": "markdown",
   "source": [
    "# 4.模型"
   ],
   "metadata": {
    "collapsed": false
   }
  },
  {
   "cell_type": "markdown",
   "source": [
    "## 4.1 准备数据集"
   ],
   "metadata": {
    "collapsed": false
   }
  },
  {
   "cell_type": "code",
   "execution_count": 10,
   "outputs": [
    {
     "data": {
      "text/plain": "<Figure size 432x288 with 1 Axes>",
      "image/png": "[encoded data removed]"
     },
     "metadata": {
      "needs_background": "light"
     },
     "output_type": "display_data"
    },
    {
     "name": "stdout",
     "output_type": "stream",
     "text": [
      "Before OverSampling, counts of label '1': 1336\n",
      "Before OverSampling, counts of label '0': 7295 \n",
      "\n"
     ]
    }
   ],
   "source": [
    "all_columns = [i for i in train_df.columns if i not in ['是否购买']]\n",
    "\n",
    "train_x, train_y = train_df[all_columns].values, train_df['是否购买'].values\n",
    "\n",
    "\n",
    "# 绘制计数直方图\n",
    "sns.countplot(train_y)\n",
    "plt.show()\n",
    "\n",
    "print(\"Before OverSampling, counts of label '1': {}\".format(sum(train_y==1)))\n",
    "print(\"Before OverSampling, counts of label '0': {} \\n\".format(sum(train_y==0)))"
   ],
   "metadata": {
    "collapsed": false,
    "pycharm": {
     "name": "#%%\n"
    }
   }
  },
  {
   "cell_type": "markdown",
   "source": [
    "## 4.2 训练模型"
   ],
   "metadata": {
    "collapsed": false
   }
  },
  {
   "cell_type": "code",
   "execution_count": 11,
   "outputs": [
    {
     "name": "stdout",
     "output_type": "stream",
     "text": [
      "0:\tlearn: 0.9151412\ttest: 0.8894193\tbest: 0.8894193 (0)\ttotal: 163ms\tremaining: 32.4s\n",
      "1:\tlearn: 0.9169296\ttest: 0.8970047\tbest: 0.8970047 (1)\ttotal: 262ms\tremaining: 25.9s\n",
      "2:\tlearn: 0.9180789\ttest: 0.8997802\tbest: 0.8997802 (2)\ttotal: 350ms\tremaining: 23s\n",
      "3:\tlearn: 0.9173572\ttest: 0.9002505\tbest: 0.9002505 (3)\ttotal: 422ms\tremaining: 20.7s\n",
      "4:\tlearn: 0.9226916\ttest: 0.9094357\tbest: 0.9094357 (4)\ttotal: 497ms\tremaining: 19.4s\n",
      "5:\tlearn: 0.9250556\ttest: 0.9092057\tbest: 0.9094357 (4)\ttotal: 682ms\tremaining: 22s\n",
      "6:\tlearn: 0.9240485\ttest: 0.9072122\tbest: 0.9094357 (4)\ttotal: 743ms\tremaining: 20.5s\n",
      "7:\tlearn: 0.9235074\ttest: 0.9073911\tbest: 0.9094357 (4)\ttotal: 811ms\tremaining: 19.5s\n",
      "8:\tlearn: 0.9238160\ttest: 0.9082192\tbest: 0.9094357 (4)\ttotal: 947ms\tremaining: 20.1s\n",
      "9:\tlearn: 0.9245522\ttest: 0.9070435\tbest: 0.9094357 (4)\ttotal: 1.24s\tremaining: 23.6s\n",
      "10:\tlearn: 0.9252060\ttest: 0.9095941\tbest: 0.9095941 (10)\ttotal: 1.36s\tremaining: 23.5s\n",
      "11:\tlearn: 0.9272979\ttest: 0.9127530\tbest: 0.9127530 (11)\ttotal: 1.82s\tremaining: 28.5s\n",
      "12:\tlearn: 0.9272809\ttest: 0.9135862\tbest: 0.9135862 (12)\ttotal: 2.27s\tremaining: 32.6s\n",
      "13:\tlearn: 0.9271860\ttest: 0.9139082\tbest: 0.9139082 (13)\ttotal: 2.39s\tremaining: 31.8s\n",
      "14:\tlearn: 0.9280092\ttest: 0.9158863\tbest: 0.9158863 (14)\ttotal: 2.59s\tremaining: 32s\n",
      "15:\tlearn: 0.9278983\ttest: 0.9161828\tbest: 0.9161828 (15)\ttotal: 2.66s\tremaining: 30.6s\n",
      "16:\tlearn: 0.9277711\ttest: 0.9163617\tbest: 0.9163617 (16)\ttotal: 2.75s\tremaining: 29.6s\n",
      "17:\tlearn: 0.9278869\ttest: 0.9157534\tbest: 0.9163617 (16)\ttotal: 2.87s\tremaining: 29.1s\n",
      "18:\tlearn: 0.9289467\ttest: 0.9173891\tbest: 0.9173891 (18)\ttotal: 2.94s\tremaining: 28s\n",
      "19:\tlearn: 0.9288663\ttest: 0.9172920\tbest: 0.9173891 (18)\ttotal: 3.06s\tremaining: 27.6s\n",
      "20:\tlearn: 0.9294325\ttest: 0.9176089\tbest: 0.9176089 (20)\ttotal: 3.42s\tremaining: 29.1s\n",
      "21:\tlearn: 0.9304504\ttest: 0.9169597\tbest: 0.9176089 (20)\ttotal: 3.55s\tremaining: 28.7s\n",
      "22:\tlearn: 0.9306978\ttest: 0.9172460\tbest: 0.9176089 (20)\ttotal: 4.09s\tremaining: 31.5s\n",
      "23:\tlearn: 0.9318318\ttest: 0.9181558\tbest: 0.9181558 (23)\ttotal: 4.33s\tremaining: 31.7s\n",
      "24:\tlearn: 0.9315218\ttest: 0.9183705\tbest: 0.9183705 (24)\ttotal: 4.43s\tremaining: 31s\n",
      "25:\tlearn: 0.9315972\ttest: 0.9180842\tbest: 0.9183705 (24)\ttotal: 4.52s\tremaining: 30.2s\n",
      "26:\tlearn: 0.9314705\ttest: 0.9179718\tbest: 0.9183705 (24)\ttotal: 4.57s\tremaining: 29.3s\n",
      "27:\tlearn: 0.9318350\ttest: 0.9184420\tbest: 0.9184420 (27)\ttotal: 4.64s\tremaining: 28.5s\n",
      "28:\tlearn: 0.9324531\ttest: 0.9185289\tbest: 0.9185289 (28)\ttotal: 5.25s\tremaining: 30.9s\n",
      "29:\tlearn: 0.9325633\ttest: 0.9184727\tbest: 0.9185289 (28)\ttotal: 5.76s\tremaining: 32.7s\n",
      "30:\tlearn: 0.9326247\ttest: 0.9189889\tbest: 0.9189889 (30)\ttotal: 6.08s\tremaining: 33.1s\n",
      "31:\tlearn: 0.9324555\ttest: 0.9185596\tbest: 0.9189889 (30)\ttotal: 6.37s\tremaining: 33.5s\n",
      "32:\tlearn: 0.9324615\ttest: 0.9185187\tbest: 0.9189889 (30)\ttotal: 6.55s\tremaining: 33.2s\n",
      "33:\tlearn: 0.9328640\ttest: 0.9188458\tbest: 0.9189889 (30)\ttotal: 6.73s\tremaining: 32.9s\n",
      "34:\tlearn: 0.9327121\ttest: 0.9187027\tbest: 0.9189889 (30)\ttotal: 7.2s\tremaining: 33.9s\n",
      "35:\tlearn: 0.9334093\ttest: 0.9193467\tbest: 0.9193467 (35)\ttotal: 7.65s\tremaining: 34.8s\n",
      "36:\tlearn: 0.9337886\ttest: 0.9200010\tbest: 0.9200010 (36)\ttotal: 7.84s\tremaining: 34.5s\n",
      "37:\tlearn: 0.9339418\ttest: 0.9200317\tbest: 0.9200317 (37)\ttotal: 8.3s\tremaining: 35.4s\n",
      "38:\tlearn: 0.9338915\ttest: 0.9202668\tbest: 0.9202668 (38)\ttotal: 8.39s\tremaining: 34.6s\n",
      "39:\tlearn: 0.9344387\ttest: 0.9209313\tbest: 0.9209313 (39)\ttotal: 8.49s\tremaining: 33.9s\n",
      "40:\tlearn: 0.9343553\ttest: 0.9209518\tbest: 0.9209518 (40)\ttotal: 8.57s\tremaining: 33.2s\n",
      "41:\tlearn: 0.9344880\ttest: 0.9209978\tbest: 0.9209978 (41)\ttotal: 8.66s\tremaining: 32.6s\n",
      "42:\tlearn: 0.9345599\ttest: 0.9206604\tbest: 0.9209978 (41)\ttotal: 9.1s\tremaining: 33.2s\n",
      "43:\tlearn: 0.9346087\ttest: 0.9208751\tbest: 0.9209978 (41)\ttotal: 9.55s\tremaining: 33.9s\n",
      "44:\tlearn: 0.9344515\ttest: 0.9209160\tbest: 0.9209978 (41)\ttotal: 9.66s\tremaining: 33.3s\n",
      "45:\tlearn: 0.9346499\ttest: 0.9211920\tbest: 0.9211920 (45)\ttotal: 9.79s\tremaining: 32.8s\n",
      "46:\tlearn: 0.9344741\ttest: 0.9212227\tbest: 0.9212227 (46)\ttotal: 9.87s\tremaining: 32.1s\n",
      "47:\tlearn: 0.9347073\ttest: 0.9216520\tbest: 0.9216520 (47)\ttotal: 10.3s\tremaining: 32.7s\n",
      "48:\tlearn: 0.9345507\ttest: 0.9215191\tbest: 0.9216520 (47)\ttotal: 10.4s\tremaining: 32s\n",
      "49:\tlearn: 0.9347540\ttest: 0.9217747\tbest: 0.9217747 (49)\ttotal: 10.8s\tremaining: 32.5s\n",
      "50:\tlearn: 0.9346487\ttest: 0.9217645\tbest: 0.9217747 (49)\ttotal: 10.9s\tremaining: 31.9s\n",
      "51:\tlearn: 0.9345069\ttest: 0.9216622\tbest: 0.9217747 (49)\ttotal: 11s\tremaining: 31.3s\n",
      "52:\tlearn: 0.9346587\ttest: 0.9219076\tbest: 0.9219076 (52)\ttotal: 11.5s\tremaining: 31.8s\n",
      "53:\tlearn: 0.9344786\ttest: 0.9216009\tbest: 0.9219076 (52)\ttotal: 11.9s\tremaining: 32.3s\n",
      "54:\tlearn: 0.9345675\ttest: 0.9217951\tbest: 0.9219076 (52)\ttotal: 12.2s\tremaining: 32.2s\n",
      "55:\tlearn: 0.9349924\ttest: 0.9221325\tbest: 0.9221325 (55)\ttotal: 12.7s\tremaining: 32.7s\n",
      "56:\tlearn: 0.9355296\ttest: 0.9223881\tbest: 0.9223881 (56)\ttotal: 13.2s\tremaining: 33.1s\n",
      "57:\tlearn: 0.9356678\ttest: 0.9225107\tbest: 0.9225107 (57)\ttotal: 13.7s\tremaining: 33.4s\n",
      "58:\tlearn: 0.9358895\ttest: 0.9222245\tbest: 0.9225107 (57)\ttotal: 14.1s\tremaining: 33.7s\n",
      "59:\tlearn: 0.9360165\ttest: 0.9221631\tbest: 0.9225107 (57)\ttotal: 14.6s\tremaining: 34s\n",
      "60:\tlearn: 0.9359820\ttest: 0.9223472\tbest: 0.9225107 (57)\ttotal: 15s\tremaining: 34.2s\n",
      "61:\tlearn: 0.9359948\ttest: 0.9225209\tbest: 0.9225209 (61)\ttotal: 15.3s\tremaining: 34.1s\n",
      "62:\tlearn: 0.9359391\ttest: 0.9225209\tbest: 0.9225209 (61)\ttotal: 15.5s\tremaining: 33.7s\n",
      "63:\tlearn: 0.9358624\ttest: 0.9223369\tbest: 0.9225209 (61)\ttotal: 15.7s\tremaining: 33.3s\n",
      "64:\tlearn: 0.9357806\ttest: 0.9223165\tbest: 0.9225209 (61)\ttotal: 15.7s\tremaining: 32.6s\n",
      "65:\tlearn: 0.9358227\ttest: 0.9223881\tbest: 0.9225209 (61)\ttotal: 16s\tremaining: 32.5s\n",
      "66:\tlearn: 0.9358879\ttest: 0.9226539\tbest: 0.9226539 (66)\ttotal: 16.1s\tremaining: 32s\n",
      "67:\tlearn: 0.9360110\ttest: 0.9226436\tbest: 0.9226539 (66)\ttotal: 16.4s\tremaining: 31.8s\n",
      "68:\tlearn: 0.9359577\ttest: 0.9225823\tbest: 0.9226539 (66)\ttotal: 16.8s\tremaining: 32s\n",
      "69:\tlearn: 0.9359432\ttest: 0.9227459\tbest: 0.9227459 (69)\ttotal: 17.3s\tremaining: 32.1s\n",
      "70:\tlearn: 0.9361721\ttest: 0.9228583\tbest: 0.9228583 (70)\ttotal: 17.7s\tremaining: 32.2s\n",
      "71:\tlearn: 0.9365141\ttest: 0.9230219\tbest: 0.9230219 (71)\ttotal: 18.2s\tremaining: 32.4s\n",
      "72:\tlearn: 0.9363902\ttest: 0.9230117\tbest: 0.9230219 (71)\ttotal: 18.3s\tremaining: 31.8s\n",
      "73:\tlearn: 0.9365643\ttest: 0.9228787\tbest: 0.9230219 (71)\ttotal: 18.7s\tremaining: 31.9s\n",
      "74:\tlearn: 0.9365350\ttest: 0.9227254\tbest: 0.9230219 (71)\ttotal: 18.8s\tremaining: 31.4s\n",
      "75:\tlearn: 0.9365803\ttest: 0.9228992\tbest: 0.9230219 (71)\ttotal: 19s\tremaining: 30.9s\n",
      "76:\tlearn: 0.9367094\ttest: 0.9229299\tbest: 0.9230219 (71)\ttotal: 19.4s\tremaining: 31s\n",
      "77:\tlearn: 0.9367442\ttest: 0.9231446\tbest: 0.9231446 (77)\ttotal: 19.9s\tremaining: 31.1s\n",
      "78:\tlearn: 0.9368916\ttest: 0.9232570\tbest: 0.9232570 (78)\ttotal: 20.3s\tremaining: 31.2s\n",
      "79:\tlearn: 0.9370423\ttest: 0.9231752\tbest: 0.9232570 (78)\ttotal: 20.6s\tremaining: 31s\n",
      "80:\tlearn: 0.9371082\ttest: 0.9232468\tbest: 0.9232570 (78)\ttotal: 21.1s\tremaining: 31s\n",
      "81:\tlearn: 0.9371817\ttest: 0.9231752\tbest: 0.9232570 (78)\ttotal: 21.5s\tremaining: 31s\n",
      "82:\tlearn: 0.9371853\ttest: 0.9231241\tbest: 0.9232570 (78)\ttotal: 21.7s\tremaining: 30.5s\n",
      "83:\tlearn: 0.9373122\ttest: 0.9230423\tbest: 0.9232570 (78)\ttotal: 21.8s\tremaining: 30.1s\n",
      "84:\tlearn: 0.9373864\ttest: 0.9231650\tbest: 0.9232570 (78)\ttotal: 22.2s\tremaining: 30.1s\n",
      "85:\tlearn: 0.9376504\ttest: 0.9231036\tbest: 0.9232570 (78)\ttotal: 22.7s\tremaining: 30s\n",
      "86:\tlearn: 0.9376622\ttest: 0.9230117\tbest: 0.9232570 (78)\ttotal: 22.8s\tremaining: 29.6s\n",
      "87:\tlearn: 0.9377258\ttest: 0.9230832\tbest: 0.9232570 (78)\ttotal: 22.9s\tremaining: 29.1s\n",
      "88:\tlearn: 0.9377775\ttest: 0.9230627\tbest: 0.9232570 (78)\ttotal: 23.3s\tremaining: 29.1s\n",
      "89:\tlearn: 0.9377210\ttest: 0.9229708\tbest: 0.9232570 (78)\ttotal: 23.5s\tremaining: 28.7s\n",
      "90:\tlearn: 0.9378109\ttest: 0.9230832\tbest: 0.9232570 (78)\ttotal: 23.9s\tremaining: 28.7s\n",
      "91:\tlearn: 0.9377859\ttest: 0.9232468\tbest: 0.9232570 (78)\ttotal: 24.4s\tremaining: 28.6s\n",
      "92:\tlearn: 0.9378472\ttest: 0.9234717\tbest: 0.9234717 (92)\ttotal: 24.8s\tremaining: 28.6s\n",
      "93:\tlearn: 0.9379894\ttest: 0.9234819\tbest: 0.9234819 (93)\ttotal: 25.3s\tremaining: 28.5s\n",
      "94:\tlearn: 0.9379363\ttest: 0.9235432\tbest: 0.9235432 (94)\ttotal: 25.4s\tremaining: 28s\n",
      "95:\tlearn: 0.9379553\ttest: 0.9234205\tbest: 0.9235432 (94)\ttotal: 25.9s\tremaining: 28.1s\n",
      "96:\tlearn: 0.9379812\ttest: 0.9234614\tbest: 0.9235432 (94)\ttotal: 26.4s\tremaining: 28s\n",
      "97:\tlearn: 0.9380527\ttest: 0.9235944\tbest: 0.9235944 (97)\ttotal: 27s\tremaining: 28.1s\n",
      "98:\tlearn: 0.9381200\ttest: 0.9234717\tbest: 0.9235944 (97)\ttotal: 27.5s\tremaining: 28s\n",
      "99:\tlearn: 0.9381655\ttest: 0.9235330\tbest: 0.9235944 (97)\ttotal: 27.8s\tremaining: 27.8s\n",
      "100:\tlearn: 0.9382256\ttest: 0.9235023\tbest: 0.9235944 (97)\ttotal: 28.7s\tremaining: 28.1s\n",
      "101:\tlearn: 0.9382434\ttest: 0.9235535\tbest: 0.9235944 (97)\ttotal: 29.8s\tremaining: 28.6s\n",
      "102:\tlearn: 0.9383214\ttest: 0.9235535\tbest: 0.9235944 (97)\ttotal: 30.6s\tremaining: 28.8s\n",
      "103:\tlearn: 0.9383313\ttest: 0.9235023\tbest: 0.9235944 (97)\ttotal: 31.1s\tremaining: 28.7s\n",
      "104:\tlearn: 0.9384508\ttest: 0.9234819\tbest: 0.9235944 (97)\ttotal: 31.6s\tremaining: 28.6s\n",
      "105:\tlearn: 0.9385813\ttest: 0.9234819\tbest: 0.9235944 (97)\ttotal: 32.7s\tremaining: 29s\n",
      "106:\tlearn: 0.9387295\ttest: 0.9234104\tbest: 0.9235944 (97)\ttotal: 33.7s\tremaining: 29.3s\n",
      "107:\tlearn: 0.9387845\ttest: 0.9234205\tbest: 0.9235944 (97)\ttotal: 34.9s\tremaining: 29.8s\n",
      "108:\tlearn: 0.9387948\ttest: 0.9235023\tbest: 0.9235944 (97)\ttotal: 35.6s\tremaining: 29.7s\n",
      "109:\tlearn: 0.9387632\ttest: 0.9234001\tbest: 0.9235944 (97)\ttotal: 35.7s\tremaining: 29.2s\n",
      "110:\tlearn: 0.9387763\ttest: 0.9235126\tbest: 0.9235944 (97)\ttotal: 35.9s\tremaining: 28.8s\n",
      "111:\tlearn: 0.9388784\ttest: 0.9235432\tbest: 0.9235944 (97)\ttotal: 36.4s\tremaining: 28.6s\n",
      "112:\tlearn: 0.9389946\ttest: 0.9235432\tbest: 0.9235944 (97)\ttotal: 36.6s\tremaining: 28.1s\n",
      "113:\tlearn: 0.9389942\ttest: 0.9235944\tbest: 0.9235944 (97)\ttotal: 37.4s\tremaining: 28.2s\n",
      "114:\tlearn: 0.9390431\ttest: 0.9235944\tbest: 0.9235944 (97)\ttotal: 37.7s\tremaining: 27.9s\n",
      "115:\tlearn: 0.9391180\ttest: 0.9235637\tbest: 0.9235944 (97)\ttotal: 38.3s\tremaining: 27.7s\n",
      "116:\tlearn: 0.9392307\ttest: 0.9235330\tbest: 0.9235944 (97)\ttotal: 39s\tremaining: 27.7s\n",
      "117:\tlearn: 0.9391941\ttest: 0.9236455\tbest: 0.9236455 (117)\ttotal: 39.1s\tremaining: 27.2s\n",
      "118:\tlearn: 0.9393814\ttest: 0.9236148\tbest: 0.9236455 (117)\ttotal: 39.7s\tremaining: 27.1s\n",
      "119:\tlearn: 0.9396144\ttest: 0.9235023\tbest: 0.9236455 (117)\ttotal: 40.5s\tremaining: 27s\n",
      "120:\tlearn: 0.9396704\ttest: 0.9234001\tbest: 0.9236455 (117)\ttotal: 41.1s\tremaining: 26.9s\n",
      "121:\tlearn: 0.9397739\ttest: 0.9234614\tbest: 0.9236455 (117)\ttotal: 42s\tremaining: 26.8s\n",
      "122:\tlearn: 0.9398959\ttest: 0.9233388\tbest: 0.9236455 (117)\ttotal: 42.7s\tremaining: 26.7s\n",
      "123:\tlearn: 0.9400733\ttest: 0.9233388\tbest: 0.9236455 (117)\ttotal: 43.3s\tremaining: 26.5s\n",
      "124:\tlearn: 0.9401080\ttest: 0.9232877\tbest: 0.9236455 (117)\ttotal: 43.4s\tremaining: 26.1s\n",
      "125:\tlearn: 0.9401860\ttest: 0.9232468\tbest: 0.9236455 (117)\ttotal: 43.9s\tremaining: 25.8s\n",
      "126:\tlearn: 0.9402603\ttest: 0.9234308\tbest: 0.9236455 (117)\ttotal: 44.3s\tremaining: 25.5s\n",
      "127:\tlearn: 0.9402862\ttest: 0.9234614\tbest: 0.9236455 (117)\ttotal: 44.6s\tremaining: 25.1s\n",
      "128:\tlearn: 0.9403703\ttest: 0.9233899\tbest: 0.9236455 (117)\ttotal: 45.1s\tremaining: 24.8s\n",
      "129:\tlearn: 0.9403799\ttest: 0.9233490\tbest: 0.9236455 (117)\ttotal: 45.3s\tremaining: 24.4s\n",
      "130:\tlearn: 0.9404089\ttest: 0.9235126\tbest: 0.9236455 (117)\ttotal: 45.7s\tremaining: 24.1s\n",
      "131:\tlearn: 0.9404127\ttest: 0.9235842\tbest: 0.9236455 (117)\ttotal: 45.8s\tremaining: 23.6s\n",
      "132:\tlearn: 0.9405224\ttest: 0.9236148\tbest: 0.9236455 (117)\ttotal: 46.3s\tremaining: 23.3s\n",
      "133:\tlearn: 0.9405488\ttest: 0.9235842\tbest: 0.9236455 (117)\ttotal: 46.7s\tremaining: 23s\n",
      "134:\tlearn: 0.9405916\ttest: 0.9235432\tbest: 0.9236455 (117)\ttotal: 47.2s\tremaining: 22.7s\n",
      "135:\tlearn: 0.9406129\ttest: 0.9234512\tbest: 0.9236455 (117)\ttotal: 47.6s\tremaining: 22.4s\n",
      "136:\tlearn: 0.9407774\ttest: 0.9234104\tbest: 0.9236455 (117)\ttotal: 48.1s\tremaining: 22.1s\n",
      "137:\tlearn: 0.9408113\ttest: 0.9233695\tbest: 0.9236455 (117)\ttotal: 48.5s\tremaining: 21.8s\n",
      "138:\tlearn: 0.9409022\ttest: 0.9233797\tbest: 0.9236455 (117)\ttotal: 49.1s\tremaining: 21.6s\n",
      "139:\tlearn: 0.9409691\ttest: 0.9233388\tbest: 0.9236455 (117)\ttotal: 49.2s\tremaining: 21.1s\n",
      "140:\tlearn: 0.9410053\ttest: 0.9233490\tbest: 0.9236455 (117)\ttotal: 49.4s\tremaining: 20.7s\n",
      "141:\tlearn: 0.9411407\ttest: 0.9233899\tbest: 0.9236455 (117)\ttotal: 49.9s\tremaining: 20.4s\n",
      "142:\tlearn: 0.9412347\ttest: 0.9231752\tbest: 0.9236455 (117)\ttotal: 50.5s\tremaining: 20.1s\n",
      "143:\tlearn: 0.9412608\ttest: 0.9231446\tbest: 0.9236455 (117)\ttotal: 50.6s\tremaining: 19.7s\n",
      "144:\tlearn: 0.9412769\ttest: 0.9230832\tbest: 0.9236455 (117)\ttotal: 50.7s\tremaining: 19.2s\n",
      "145:\tlearn: 0.9412521\ttest: 0.9231036\tbest: 0.9236455 (117)\ttotal: 50.8s\tremaining: 18.8s\n",
      "146:\tlearn: 0.9413444\ttest: 0.9230423\tbest: 0.9236455 (117)\ttotal: 51.4s\tremaining: 18.5s\n",
      "147:\tlearn: 0.9413927\ttest: 0.9231752\tbest: 0.9236455 (117)\ttotal: 52s\tremaining: 18.3s\n",
      "148:\tlearn: 0.9414223\ttest: 0.9230730\tbest: 0.9236455 (117)\ttotal: 52.5s\tremaining: 18s\n",
      "149:\tlearn: 0.9414306\ttest: 0.9231343\tbest: 0.9236455 (117)\ttotal: 52.8s\tremaining: 17.6s\n",
      "150:\tlearn: 0.9414733\ttest: 0.9230934\tbest: 0.9236455 (117)\ttotal: 52.9s\tremaining: 17.2s\n",
      "151:\tlearn: 0.9415323\ttest: 0.9230423\tbest: 0.9236455 (117)\ttotal: 53.3s\tremaining: 16.8s\n",
      "152:\tlearn: 0.9415360\ttest: 0.9230321\tbest: 0.9236455 (117)\ttotal: 53.4s\tremaining: 16.4s\n",
      "153:\tlearn: 0.9416311\ttest: 0.9230117\tbest: 0.9236455 (117)\ttotal: 53.9s\tremaining: 16.1s\n",
      "154:\tlearn: 0.9416803\ttest: 0.9230525\tbest: 0.9236455 (117)\ttotal: 54.2s\tremaining: 15.7s\n",
      "155:\tlearn: 0.9416747\ttest: 0.9230219\tbest: 0.9236455 (117)\ttotal: 54.3s\tremaining: 15.3s\n",
      "156:\tlearn: 0.9417616\ttest: 0.9230219\tbest: 0.9236455 (117)\ttotal: 54.8s\tremaining: 15s\n",
      "157:\tlearn: 0.9418153\ttest: 0.9230627\tbest: 0.9236455 (117)\ttotal: 55.3s\tremaining: 14.7s\n",
      "158:\tlearn: 0.9419626\ttest: 0.9231548\tbest: 0.9236455 (117)\ttotal: 55.8s\tremaining: 14.4s\n",
      "159:\tlearn: 0.9419952\ttest: 0.9232059\tbest: 0.9236455 (117)\ttotal: 56.2s\tremaining: 14.1s\n",
      "160:\tlearn: 0.9421455\ttest: 0.9231855\tbest: 0.9236455 (117)\ttotal: 56.7s\tremaining: 13.7s\n",
      "161:\tlearn: 0.9421997\ttest: 0.9231752\tbest: 0.9236455 (117)\ttotal: 57s\tremaining: 13.4s\n",
      "162:\tlearn: 0.9422200\ttest: 0.9232059\tbest: 0.9236455 (117)\ttotal: 57.5s\tremaining: 13s\n",
      "163:\tlearn: 0.9422052\ttest: 0.9231548\tbest: 0.9236455 (117)\ttotal: 57.6s\tremaining: 12.6s\n",
      "164:\tlearn: 0.9422642\ttest: 0.9231650\tbest: 0.9236455 (117)\ttotal: 58s\tremaining: 12.3s\n",
      "165:\tlearn: 0.9422649\ttest: 0.9231036\tbest: 0.9236455 (117)\ttotal: 58.5s\tremaining: 12s\n",
      "166:\tlearn: 0.9423252\ttest: 0.9232161\tbest: 0.9236455 (117)\ttotal: 58.9s\tremaining: 11.6s\n",
      "167:\tlearn: 0.9423963\ttest: 0.9232774\tbest: 0.9236455 (117)\ttotal: 59.4s\tremaining: 11.3s\n",
      "168:\tlearn: 0.9424943\ttest: 0.9233388\tbest: 0.9236455 (117)\ttotal: 59.8s\tremaining: 11s\n",
      "169:\tlearn: 0.9425111\ttest: 0.9233490\tbest: 0.9236455 (117)\ttotal: 1m\tremaining: 10.6s\n",
      "170:\tlearn: 0.9425585\ttest: 0.9233592\tbest: 0.9236455 (117)\ttotal: 1m\tremaining: 10.3s\n",
      "171:\tlearn: 0.9426478\ttest: 0.9233797\tbest: 0.9236455 (117)\ttotal: 1m 1s\tremaining: 9.97s\n",
      "172:\tlearn: 0.9427338\ttest: 0.9235023\tbest: 0.9236455 (117)\ttotal: 1m 1s\tremaining: 9.63s\n",
      "173:\tlearn: 0.9427387\ttest: 0.9234614\tbest: 0.9236455 (117)\ttotal: 1m 1s\tremaining: 9.24s\n",
      "174:\tlearn: 0.9427616\ttest: 0.9234614\tbest: 0.9236455 (117)\ttotal: 1m 1s\tremaining: 8.85s\n",
      "175:\tlearn: 0.9428636\ttest: 0.9234819\tbest: 0.9236455 (117)\ttotal: 1m 2s\tremaining: 8.48s\n",
      "176:\tlearn: 0.9429666\ttest: 0.9235637\tbest: 0.9236455 (117)\ttotal: 1m 2s\tremaining: 8.14s\n",
      "177:\tlearn: 0.9429857\ttest: 0.9234819\tbest: 0.9236455 (117)\ttotal: 1m 2s\tremaining: 7.75s\n",
      "178:\tlearn: 0.9429995\ttest: 0.9234819\tbest: 0.9236455 (117)\ttotal: 1m 3s\tremaining: 7.41s\n",
      "179:\tlearn: 0.9431214\ttest: 0.9233286\tbest: 0.9236455 (117)\ttotal: 1m 3s\tremaining: 7.04s\n",
      "180:\tlearn: 0.9431888\ttest: 0.9233490\tbest: 0.9236455 (117)\ttotal: 1m 3s\tremaining: 6.7s\n",
      "181:\tlearn: 0.9431711\ttest: 0.9233388\tbest: 0.9236455 (117)\ttotal: 1m 3s\tremaining: 6.33s\n",
      "182:\tlearn: 0.9433271\ttest: 0.9232877\tbest: 0.9236455 (117)\ttotal: 1m 4s\tremaining: 5.99s\n",
      "183:\tlearn: 0.9433894\ttest: 0.9233797\tbest: 0.9236455 (117)\ttotal: 1m 4s\tremaining: 5.65s\n",
      "184:\tlearn: 0.9434606\ttest: 0.9235228\tbest: 0.9236455 (117)\ttotal: 1m 5s\tremaining: 5.3s\n",
      "185:\tlearn: 0.9435282\ttest: 0.9234717\tbest: 0.9236455 (117)\ttotal: 1m 5s\tremaining: 4.96s\n",
      "186:\tlearn: 0.9435753\ttest: 0.9235637\tbest: 0.9236455 (117)\ttotal: 1m 6s\tremaining: 4.59s\n",
      "187:\tlearn: 0.9437372\ttest: 0.9235535\tbest: 0.9236455 (117)\ttotal: 1m 6s\tremaining: 4.25s\n",
      "188:\tlearn: 0.9438197\ttest: 0.9234921\tbest: 0.9236455 (117)\ttotal: 1m 6s\tremaining: 3.9s\n",
      "189:\tlearn: 0.9439729\ttest: 0.9235228\tbest: 0.9236455 (117)\ttotal: 1m 7s\tremaining: 3.55s\n",
      "190:\tlearn: 0.9440569\ttest: 0.9235535\tbest: 0.9236455 (117)\ttotal: 1m 7s\tremaining: 3.2s\n",
      "191:\tlearn: 0.9441603\ttest: 0.9236761\tbest: 0.9236761 (191)\ttotal: 1m 8s\tremaining: 2.85s\n",
      "192:\tlearn: 0.9441651\ttest: 0.9236659\tbest: 0.9236761 (191)\ttotal: 1m 8s\tremaining: 2.49s\n",
      "193:\tlearn: 0.9442387\ttest: 0.9236966\tbest: 0.9236966 (193)\ttotal: 1m 9s\tremaining: 2.14s\n",
      "194:\tlearn: 0.9442751\ttest: 0.9237375\tbest: 0.9237375 (194)\ttotal: 1m 9s\tremaining: 1.78s\n",
      "195:\tlearn: 0.9442995\ttest: 0.9237273\tbest: 0.9237375 (194)\ttotal: 1m 9s\tremaining: 1.42s\n",
      "196:\tlearn: 0.9443368\ttest: 0.9237477\tbest: 0.9237477 (196)\ttotal: 1m 9s\tremaining: 1.06s\n",
      "197:\tlearn: 0.9444896\ttest: 0.9237886\tbest: 0.9237886 (197)\ttotal: 1m 10s\tremaining: 711ms\n",
      "198:\tlearn: 0.9446034\ttest: 0.9238295\tbest: 0.9238295 (198)\ttotal: 1m 10s\tremaining: 356ms\n",
      "199:\tlearn: 0.9445853\ttest: 0.9238397\tbest: 0.9238397 (199)\ttotal: 1m 10s\tremaining: 0us\n",
      "bestTest = 0.9238396883\n",
      "bestIteration = 199\n",
      "Shrink model to first 200 iterations.\n",
      "AUC =  0.9238397055816806\n"
     ]
    },
    {
     "name": "stderr",
     "output_type": "stream",
     "text": [
      "C:\\Users\\82115\\.conda\\envs\\python36\\lib\\site-packages\\sklearn\\metrics\\_ranking.py:813: UndefinedMetricWarning: No positive samples in y_true, true positive value should be meaningless\n",
      "  UndefinedMetricWarning)\n"
     ]
    },
    {
     "ename": "TypeError",
     "evalue": "unsupported format string passed to function.__format__",
     "output_type": "error",
     "traceback": [
      "\u001B[1;31m---------------------------------------------------------------------------\u001B[0m",
      "\u001B[1;31mTypeError\u001B[0m                                 Traceback (most recent call last)",
      "\u001B[1;32m<ipython-input-11-7e41b7518244>\u001B[0m in \u001B[0;36m<module>\u001B[1;34m\u001B[0m\n\u001B[0;32m     30\u001B[0m     \u001B[0mplt\u001B[0m\u001B[1;33m.\u001B[0m\u001B[0mxlabel\u001B[0m\u001B[1;33m(\u001B[0m\u001B[1;34m\"False Positive Rate (1 - Specificity)\"\u001B[0m\u001B[1;33m)\u001B[0m\u001B[1;33m\u001B[0m\u001B[1;33m\u001B[0m\u001B[0m\n\u001B[0;32m     31\u001B[0m     \u001B[0mplt\u001B[0m\u001B[1;33m.\u001B[0m\u001B[0mylabel\u001B[0m\u001B[1;33m(\u001B[0m\u001B[1;34m\"True Positive Rate (Specificity)\"\u001B[0m\u001B[1;33m)\u001B[0m\u001B[1;33m\u001B[0m\u001B[1;33m\u001B[0m\u001B[0m\n\u001B[1;32m---> 32\u001B[1;33m     \u001B[0mplt\u001B[0m\u001B[1;33m.\u001B[0m\u001B[0mlegend\u001B[0m\u001B[1;33m(\u001B[0m\u001B[1;33m[\u001B[0m\u001B[1;34m\"CatBoost (AUC {:.4f})\"\u001B[0m\u001B[1;33m.\u001B[0m\u001B[0mformat\u001B[0m\u001B[1;33m(\u001B[0m\u001B[0mroc_auc_score\u001B[0m\u001B[1;33m)\u001B[0m\u001B[1;33m]\u001B[0m\u001B[1;33m)\u001B[0m\u001B[1;33m\u001B[0m\u001B[1;33m\u001B[0m\u001B[0m\n\u001B[0m\u001B[0;32m     33\u001B[0m     \u001B[0mplt\u001B[0m\u001B[1;33m.\u001B[0m\u001B[0mgrid\u001B[0m\u001B[1;33m(\u001B[0m\u001B[1;32mTrue\u001B[0m\u001B[1;33m)\u001B[0m\u001B[1;33m\u001B[0m\u001B[1;33m\u001B[0m\u001B[0m\n",
      "\u001B[1;31mTypeError\u001B[0m: unsupported format string passed to function.__format__"
     ]
    },
    {
     "data": {
      "text/plain": "<Figure size 432x288 with 1 Axes>",
      "image/png": "[encoded data removed]"
     },
     "metadata": {
      "needs_background": "light"
     },
     "output_type": "display_data"
    }
   ],
   "source": [
    "kfold = StratifiedKFold(n_splits=10, shuffle=False)\n",
    "\n",
    "model = CatBoostClassifier(\n",
    "    loss_function=\"Logloss\",\n",
    "    eval_metric=\"AUC\",\n",
    "    learning_rate=0.01,\n",
    "    iterations=200,\n",
    "    random_seed=42,\n",
    "    od_type=\"Iter\",\n",
    "    depth=10,\n",
    "    task_type='GPU',\n",
    "    devices='0',\n",
    "    early_stopping_rounds=100\n",
    "    )\n",
    "\n",
    "\n",
    "for train, valid in kfold.split(train_x, train_y):\n",
    "    X_train, Y_train = train_x[train], train_y[train]\n",
    "    X_valid, Y_valid = train_x[valid], train_y[valid]\n",
    "    model.fit(X_train,Y_train, eval_set=(X_valid, Y_valid),use_best_model=True)\n",
    "    Y_valid_pred_prob = model.predict_proba(X_valid)\n",
    "    print(\"AUC = \", roc_auc_score(Y_valid, Y_valid_pred_prob[:, 1]))\n",
    "    fpr, tpr, thresholds = roc_curve(Y_valid, Y_valid_pred_prob[:, 1], pos_label=2)\n",
    "    plt.plot(fpr, tpr, lw=2, alpha=.6)\n",
    "    plt.plot([0, 1], [0, 1], ls=\"--\", c=\".3\")\n",
    "    plt.xlim([0.0, 1.0])\n",
    "    plt.ylim([0.0, 1.0])\n",
    "    plt.rcParams['font.size']=12\n",
    "    plt.title('ROC curve')\n",
    "    plt.xlabel(\"False Positive Rate (1 - Specificity)\")\n",
    "    plt.ylabel(\"True Positive Rate (Specificity)\")\n",
    "    plt.legend([\"CatBoost (AUC {:.4f})\".format(roc_auc_score)])\n",
    "    plt.grid(True)"
   ],
   "metadata": {
    "collapsed": false,
    "pycharm": {
     "name": "#%%\n"
    }
   }
  }
 ],
 "metadata": {
  "kernelspec": {
   "name": "pycharm-1afc687d",
   "language": "python",
   "display_name": "PyCharm (DiseasePrediction)"
  },
  "language_info": {
   "codemirror_mode": {
    "name": "ipython",
    "version": 2
   },
   "file_extension": ".py",
   "mimetype": "text/x-python",
   "name": "python",
   "nbconvert_exporter": "python",
   "pygments_lexer": "ipython2",
   "version": "2.7.6"
  }
 },
 "nbformat": 4,
 "nbformat_minor": 0
}